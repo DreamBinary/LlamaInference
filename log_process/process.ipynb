{
 "cells": [
  {
   "cell_type": "code",
   "outputs": [],
   "source": [
    "import re\n",
    "\n",
    "import openpyxl\n",
    "\n",
    "wb = openpyxl.Workbook()\n",
    "\n",
    "\n",
    "def process(file_name):\n",
    "    data = []\n",
    "    data.append([\"GPU0\", \"GPU1\", \"GPU2\", \"GPU3\", \"GPU4\", \"GPU5\", \"GPU6\", \"GPU7\", \"Average\"])\n",
    "    with open(file_name) as f:\n",
    "        lines = f.readlines()\n",
    "        group = []\n",
    "        for line in lines:\n",
    "            result = re.findall(r'\\d{1,3}%', line)\n",
    "            if result:\n",
    "                group.append(float(result[-1][:-1]))\n",
    "                if len(group) == 8:\n",
    "                    group.append(sum(group) / 8)\n",
    "                    data.append(group)\n",
    "                    group = []\n",
    "    ws = wb.create_sheet(file_name)\n",
    "    r = len(data)\n",
    "    for i in range(r):\n",
    "        for j in range(9):\n",
    "            ws.cell(row=i + 1, column=j + 1, value=data[i][j])\n",
    "    wb.save(\"gpu_log_utilization.xlsx\")"
   ],
   "metadata": {
    "collapsed": false,
    "ExecuteTime": {
     "end_time": "2024-01-20T11:49:56.949014300Z",
     "start_time": "2024-01-20T11:49:56.085506900Z"
    }
   },
   "id": "bfd11667b66ad6ed",
   "execution_count": 1
  },
  {
   "cell_type": "code",
   "outputs": [],
   "source": [
    "for i in [\"vllm_4090_2_8_gpu.log\", \"vllm_async_4090_2_8_gpu.log\", \"mii_4090_2_8_gpu.log\"]:\n",
    "    process(i)"
   ],
   "metadata": {
    "collapsed": false,
    "ExecuteTime": {
     "end_time": "2024-01-20T11:50:01.446434900Z",
     "start_time": "2024-01-20T11:49:56.941503400Z"
    }
   },
   "id": "a3acea0f7555f646",
   "execution_count": 2
  },
  {
   "cell_type": "code",
   "outputs": [],
   "source": [],
   "metadata": {
    "collapsed": false
   },
   "id": "b67513dd524aacaa"
  }
 ],
 "metadata": {
  "kernelspec": {
   "display_name": "Python 3",
   "language": "python",
   "name": "python3"
  },
  "language_info": {
   "codemirror_mode": {
    "name": "ipython",
    "version": 2
   },
   "file_extension": ".py",
   "mimetype": "text/x-python",
   "name": "python",
   "nbconvert_exporter": "python",
   "pygments_lexer": "ipython2",
   "version": "2.7.6"
  }
 },
 "nbformat": 4,
 "nbformat_minor": 5
}
